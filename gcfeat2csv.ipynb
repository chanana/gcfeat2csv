{
 "cells": [
  {
   "cell_type": "code",
   "execution_count": 1,
   "metadata": {},
   "outputs": [],
   "source": [
    "import sqlite3\n",
    "import csv\n",
    "from os import listdir\n",
    "import re"
   ]
  },
  {
   "cell_type": "code",
   "execution_count": 2,
   "metadata": {},
   "outputs": [],
   "source": [
    "mypath = \"./gcfeat/\"\n",
    "result_file = \"Features.csv\"\n",
    "onlyfiles = [mypath+f for f in listdir(mypath) if f != \".DS_Store\"]\n",
    "pattern = re.compile(\"\\d+-\\d+\")"
   ]
  },
  {
   "cell_type": "code",
   "execution_count": 3,
   "metadata": {},
   "outputs": [
    {
     "name": "stdout",
     "output_type": "stream",
     "text": [
      "111-64\n",
      "93-68\n",
      "22-83\n",
      "76-76\n",
      "92-85\n",
      "65-67\n",
      "73-74\n",
      "27-65\n",
      "25-81\n",
      "74-93\n",
      "64-94\n",
      "34-79\n",
      "62-77\n",
      "56-92\n",
      "112-91\n",
      "35-88\n",
      "115-78\n",
      "53-82\n",
      "80-66\n",
      "83-71\n",
      "78-69\n",
      "33-84\n",
      "107-72\n",
      "98-95\n",
      "97-89\n",
      "23-75\n",
      "90-73\n",
      "82-80\n",
      "107-72\n",
      "94-87\n",
      "59-90\n",
      "79-86\n",
      "85-70\n",
      "Done\n"
     ]
    }
   ],
   "source": [
    "for f in onlyfiles:\n",
    "    # Get sample name (XX-XX)\n",
    "    filename = re.search(pattern=pattern, string=f)\n",
    "    print(filename.group(0))\n",
    "    \n",
    "    # open connection to database file; select columns\n",
    "    conn = sqlite3.connect(f)\n",
    "    c = conn.cursor()\n",
    "    c.execute('SELECT mz, apex_intensity, apex_rt FROM features')\n",
    "    \n",
    "    with open(result_file, 'a') as f:\n",
    "        fwriter = csv.writer(f, delimiter=',')\n",
    "        \n",
    "        # get data\n",
    "        data = c.fetchall()\n",
    "        \n",
    "        # add sample name to a row\n",
    "        for tuple_row in data:\n",
    "            # mz_rt = 'mz'_'apex_intensity'\n",
    "            # mz and rt rounded to 4 decimal places\n",
    "            mz_rt = str(round(tuple_row[0], 4)) + \"_\" + str(round(tuple_row[2], 4)) # make mz_rt pair\n",
    "            \n",
    "            # ['xx-xx', mz_rt, apex_intensity]\n",
    "            row = [filename.group(0), mz_rt, tuple_row[1]]\n",
    "            \n",
    "            # write this row to the csv file\n",
    "            fwriter.writerow(row)\n",
    "    conn.close()\n",
    "print(\"Done\")"
   ]
  }
 ],
 "metadata": {
  "kernelspec": {
   "display_name": "Python 3",
   "language": "python",
   "name": "python3"
  },
  "language_info": {
   "codemirror_mode": {
    "name": "ipython",
    "version": 3
   },
   "file_extension": ".py",
   "mimetype": "text/x-python",
   "name": "python",
   "nbconvert_exporter": "python",
   "pygments_lexer": "ipython3",
   "version": "3.6.3"
  }
 },
 "nbformat": 4,
 "nbformat_minor": 2
}
